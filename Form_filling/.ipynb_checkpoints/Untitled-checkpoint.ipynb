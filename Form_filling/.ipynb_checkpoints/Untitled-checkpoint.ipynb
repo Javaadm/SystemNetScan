{
 "cells": [
  {
   "cell_type": "code",
   "execution_count": 7,
   "metadata": {},
   "outputs": [],
   "source": [
    "import os\n",
    "from docx import Document\n",
    "from urllib.request import urlopen\n",
    "import json"
   ]
  },
  {
   "cell_type": "code",
   "execution_count": 2,
   "metadata": {},
   "outputs": [],
   "source": [
    "document = Document('БЕЛОРУССИЯ Новик Дмитрий Юльянович.docx')\n"
   ]
  },
  {
   "cell_type": "code",
   "execution_count": 3,
   "metadata": {},
   "outputs": [],
   "source": [
    "for par in document.paragraphs:\n",
    "    for run in par.runs:\n",
    "        run.text = run.text.replace(\"БЕЛАРУСЬ\", \"Here we go!\")"
   ]
  },
  {
   "cell_type": "code",
   "execution_count": 4,
   "metadata": {},
   "outputs": [],
   "source": [
    "document.save('ToughAndAlone.docx')"
   ]
  },
  {
   "cell_type": "code",
   "execution_count": 32,
   "metadata": {},
   "outputs": [],
   "source": [
    "d = dict()\n",
    "\n",
    "d['LAST_NAME'] = \"Devil\"\n",
    "d['FIRST_NAME'] = \"May\"\n",
    "d['PATRONYMIC'] = \"Cry\"\n",
    "d['BIRTH_DATE'] = \"Die\"\n",
    "d['BIRTH_PLACE'] = \"Die\"\n",
    "d['PERSONAL_NUMBER'] = \"Die\"\n",
    "d['ISSUE_DATE'] = \"Die\"\n",
    "d['EXPIRATION_DATE'] = \"Die\"\n",
    "d['ISSUING_BODY'] = \"Die\"\n",
    "d['TYPE'] = \"Die\"\n",
    "d['COUNTRY_ID'] = \"Die\"\n",
    "d['CITIZENSHIP'] = \"Die\"\n",
    "d['SEX'] = \"Die\"\n",
    "d['BIRTH_PLACE_2'] = \"Die\"\n",
    "d['ISSUING_BODY_2'] = \"Die\"\n",
    "        \n",
    "with open(\"example.json\", \"w\") as f:\n",
    "    json.dump(d, f)"
   ]
  },
  {
   "cell_type": "code",
   "execution_count": 36,
   "metadata": {},
   "outputs": [],
   "source": [
    "class BelarusTemplate:\n",
    "    def __init__(self, data):\n",
    "        self.data = dict()\n",
    "        self.data['%LAST_NAME%'] = data['LAST_NAME']\n",
    "        self.data['%FIRST_NAME%'] = data['FIRST_NAME']\n",
    "        self.data['%PATRONYMIC%'] = data['PATRONYMIC']\n",
    "        self.data['%BIRTH_DATE%'] = data['BIRTH_DATE']\n",
    "        self.data['%BIRTH_PLACE%'] = data['BIRTH_PLACE']\n",
    "        self.data['%PERSONAL_NUMBER%'] = data['PERSONAL_NUMBER']\n",
    "        self.data['%ISSUE_DATE%'] = data['ISSUE_DATE']\n",
    "        self.data['%EXPIRATION_DATE%'] = data['EXPIRATION_DATE']\n",
    "        self.data['%ISSUING_BODY%'] = data['ISSUING_BODY']\n",
    "        self.data['%TYPE%'] = data['TYPE']\n",
    "        self.data['%COUNTRY_ID%'] = data['COUNTRY_ID']\n",
    "        self.data['%CITIZENSHIP%'] = data['CITIZENSHIP']\n",
    "        self.data['%SEX%'] = data['SEX']\n",
    "        self.data['%BIRTH_PLACE_2%'] = data['BIRTH_PLACE_2']\n",
    "        self.data['%ISSUING_BODY_2%'] = data['ISSUING_BODY_2']\n",
    "        self.address = self.data['%LAST_NAME%'] + '_' + self.data['%FIRST_NAME%'] + '_' + self.data['%PERSONAL_NUMBER%']\n",
    "        \n",
    "    def save():\n",
    "        document = Document('Belarus/Belarus_pass.docx')\n",
    "        for par in document.paragraphs:\n",
    "            for run in par.runs:\n",
    "                for key, value in self.data:\n",
    "                    run.text = text.replace(key, value)\n",
    "        if not(os.path.isdir(self.address)):\n",
    "             %mkdir(self.adress)\n",
    "        document.save(self.address + '/' + self.address + '.docx')\n",
    "        "
   ]
  },
  {
   "cell_type": "code",
   "execution_count": 37,
   "metadata": {},
   "outputs": [
    {
     "ename": "AttributeError",
     "evalue": "'dict' object has no attribute 'FIRST_NAME'",
     "output_type": "error",
     "traceback": [
      "\u001b[0;31m---------------------------------------------------------------------------\u001b[0m",
      "\u001b[0;31mAttributeError\u001b[0m                            Traceback (most recent call last)",
      "\u001b[0;32m<ipython-input-37-2540c570bfc1>\u001b[0m in \u001b[0;36m<module>\u001b[0;34m\u001b[0m\n\u001b[1;32m      1\u001b[0m \u001b[0;32mwith\u001b[0m \u001b[0mopen\u001b[0m\u001b[0;34m(\u001b[0m\u001b[0;34m\"example.json\"\u001b[0m\u001b[0;34m,\u001b[0m \u001b[0;34m\"r\"\u001b[0m\u001b[0;34m)\u001b[0m \u001b[0;32mas\u001b[0m \u001b[0mf\u001b[0m\u001b[0;34m:\u001b[0m\u001b[0;34m\u001b[0m\u001b[0;34m\u001b[0m\u001b[0m\n\u001b[1;32m      2\u001b[0m     \u001b[0mdata\u001b[0m \u001b[0;34m=\u001b[0m \u001b[0mjson\u001b[0m\u001b[0;34m.\u001b[0m\u001b[0mload\u001b[0m\u001b[0;34m(\u001b[0m\u001b[0mf\u001b[0m\u001b[0;34m)\u001b[0m\u001b[0;34m\u001b[0m\u001b[0;34m\u001b[0m\u001b[0m\n\u001b[0;32m----> 3\u001b[0;31m \u001b[0mbt\u001b[0m \u001b[0;34m=\u001b[0m \u001b[0mBelarusTemplate\u001b[0m\u001b[0;34m(\u001b[0m\u001b[0mdata\u001b[0m\u001b[0;34m)\u001b[0m\u001b[0;34m\u001b[0m\u001b[0;34m\u001b[0m\u001b[0m\n\u001b[0m",
      "\u001b[0;32m<ipython-input-36-5ce3775cc929>\u001b[0m in \u001b[0;36m__init__\u001b[0;34m(self, data)\u001b[0m\n\u001b[1;32m      3\u001b[0m         \u001b[0mself\u001b[0m\u001b[0;34m.\u001b[0m\u001b[0mdata\u001b[0m \u001b[0;34m=\u001b[0m \u001b[0mdict\u001b[0m\u001b[0;34m(\u001b[0m\u001b[0;34m)\u001b[0m\u001b[0;34m\u001b[0m\u001b[0;34m\u001b[0m\u001b[0m\n\u001b[1;32m      4\u001b[0m         \u001b[0mself\u001b[0m\u001b[0;34m.\u001b[0m\u001b[0mdata\u001b[0m\u001b[0;34m[\u001b[0m\u001b[0;34m'%LAST_NAME%'\u001b[0m\u001b[0;34m]\u001b[0m \u001b[0;34m=\u001b[0m \u001b[0mdata\u001b[0m\u001b[0;34m[\u001b[0m\u001b[0;34m'LAST_NAME'\u001b[0m\u001b[0;34m]\u001b[0m\u001b[0;34m\u001b[0m\u001b[0;34m\u001b[0m\u001b[0m\n\u001b[0;32m----> 5\u001b[0;31m         \u001b[0mself\u001b[0m\u001b[0;34m.\u001b[0m\u001b[0mdata\u001b[0m\u001b[0;34m[\u001b[0m\u001b[0;34m'%FIRST_NAME%'\u001b[0m\u001b[0;34m]\u001b[0m \u001b[0;34m=\u001b[0m \u001b[0mdata\u001b[0m\u001b[0;34m.\u001b[0m\u001b[0mFIRST_NAME\u001b[0m\u001b[0;34m\u001b[0m\u001b[0;34m\u001b[0m\u001b[0m\n\u001b[0m\u001b[1;32m      6\u001b[0m         \u001b[0mself\u001b[0m\u001b[0;34m.\u001b[0m\u001b[0mdata\u001b[0m\u001b[0;34m[\u001b[0m\u001b[0;34m'%PATRONYMIC%'\u001b[0m\u001b[0;34m]\u001b[0m \u001b[0;34m=\u001b[0m \u001b[0mdata\u001b[0m\u001b[0;34m.\u001b[0m\u001b[0mPATRONYMIC\u001b[0m\u001b[0;34m\u001b[0m\u001b[0;34m\u001b[0m\u001b[0m\n\u001b[1;32m      7\u001b[0m         \u001b[0mself\u001b[0m\u001b[0;34m.\u001b[0m\u001b[0mdata\u001b[0m\u001b[0;34m[\u001b[0m\u001b[0;34m'%BIRTH_DATE%'\u001b[0m\u001b[0;34m]\u001b[0m \u001b[0;34m=\u001b[0m \u001b[0mdata\u001b[0m\u001b[0;34m.\u001b[0m\u001b[0mBIRTH_DATE\u001b[0m\u001b[0;34m\u001b[0m\u001b[0;34m\u001b[0m\u001b[0m\n",
      "\u001b[0;31mAttributeError\u001b[0m: 'dict' object has no attribute 'FIRST_NAME'"
     ]
    }
   ],
   "source": [
    "with open(\"example.json\", \"r\") as f:\n",
    "    data = json.load(f)\n",
    "bt = BelarusTemplate(data)"
   ]
  },
  {
   "cell_type": "code",
   "execution_count": 35,
   "metadata": {},
   "outputs": [
    {
     "name": "stdout",
     "output_type": "stream",
     "text": [
      "{'LAST_NAME': 'Devil', 'FIRST_NAME': 'May', 'PATRONYMIC': 'Cry', 'BIRTH_DATE': 'Die', 'BIRTH_PLACE': 'Die', 'PERSONAL_NUMBER': 'Die', 'ISSUE_DATE': 'Die', 'EXPIRATION_DATE': 'Die', 'ISSUING_BODY': 'Die', 'TYPE': 'Die', 'COUNTRY_ID': 'Die', 'CITIZENSHIP': 'Die', 'SEX': 'Die', 'BIRTH_PLACE_2': 'Die', 'ISSUING_BODY_2': 'Die'}\n"
     ]
    }
   ],
   "source": [
    "print(data)"
   ]
  }
 ],
 "metadata": {
  "kernelspec": {
   "display_name": "Python 3",
   "language": "python",
   "name": "python3"
  },
  "language_info": {
   "codemirror_mode": {
    "name": "ipython",
    "version": 3
   },
   "file_extension": ".py",
   "mimetype": "text/x-python",
   "name": "python",
   "nbconvert_exporter": "python",
   "pygments_lexer": "ipython3",
   "version": "3.7.3"
  }
 },
 "nbformat": 4,
 "nbformat_minor": 2
}
