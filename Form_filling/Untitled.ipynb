{
 "cells": [
  {
   "cell_type": "code",
   "execution_count": 7,
   "metadata": {},
   "outputs": [],
   "source": [
    "import os\n",
    "from docx import Document\n",
    "from urllib.request import urlopen\n",
    "import json"
   ]
  },
  {
   "cell_type": "code",
   "execution_count": 2,
   "metadata": {},
   "outputs": [],
   "source": [
    "document = Document('БЕЛОРУССИЯ Новик Дмитрий Юльянович.docx')\n"
   ]
  },
  {
   "cell_type": "code",
   "execution_count": 3,
   "metadata": {},
   "outputs": [],
   "source": [
    "for par in document.paragraphs:\n",
    "    for run in par.runs:\n",
    "        run.text = run.text.replace(\"БЕЛАРУСЬ\", \"Here we go!\")"
   ]
  },
  {
   "cell_type": "code",
   "execution_count": 4,
   "metadata": {},
   "outputs": [],
   "source": [
    "document.save('ToughAndAlone.docx')"
   ]
  },
  {
   "cell_type": "code",
   "execution_count": 71,
   "metadata": {},
   "outputs": [],
   "source": [
    "d = dict()\n",
    "\n",
    "d['LAST_NAME'] = \"Devil\"\n",
    "d['FIRST_NAME'] = \"May\"\n",
    "d['PATRONYMIC'] = \"Cry\"\n",
    "d['BIRTH_DATE'] = \"Die\"\n",
    "d['BIRTH_PLACE'] = \"Die\"\n",
    "d['PERSONAL_NUMBER'] = \"Die\"\n",
    "d['ISSUE_DATE'] = \"Die\"\n",
    "d['EXPIRATION_DATE'] = \"Die\"\n",
    "d['ISSUING_BODY'] = \"Die\"\n",
    "d['TYPE'] = \"Die\"\n",
    "d['COUNTRY_ID'] = \"Die\"\n",
    "d['CITIZENSHIP'] = \"Die\"\n",
    "d['SEX'] = \"Die\"\n",
    "d['BIRTH_PLACE_2'] = \"Die\"\n",
    "d['ISSUING_BODY_2'] = \"Die\"\n",
    "        \n",
    "with open(\"example.json\", \"w\") as f:\n",
    "    json.dump(d, f)"
   ]
  },
  {
   "cell_type": "code",
   "execution_count": 84,
   "metadata": {},
   "outputs": [],
   "source": [
    "class BelarusTemplate:\n",
    "    def __init__(self, data):\n",
    "        self.data = dict()\n",
    "        self.data['%LAST_NAME%'] = data['LAST_NAME']\n",
    "        self.data['%FIRST_NAME%'] = data['FIRST_NAME']\n",
    "        self.data['%PATRONYMIC%'] = data['PATRONYMIC']\n",
    "        self.data['%BIRTH_DATE%'] = data['BIRTH_DATE']\n",
    "        self.data['%BIRTH_PLACE%'] = data['BIRTH_PLACE']\n",
    "        self.data['%PERSONAL_NUMBER%'] = data['PERSONAL_NUMBER']\n",
    "        self.data['%ISSUE_DATE%'] = data['ISSUE_DATE']\n",
    "        self.data['%EXPIRATION_DATE%'] = data['EXPIRATION_DATE']\n",
    "        self.data['%ISSUING_BODY%'] = data['ISSUING_BODY']\n",
    "        self.data['%TYPE%'] = data['TYPE']\n",
    "        self.data['%COUNTRY_ID%'] = data['COUNTRY_ID']\n",
    "        self.data['%CITIZENSHIP%'] = data['CITIZENSHIP']\n",
    "        self.data['%SEX%'] = data['SEX']\n",
    "        self.data['%BIRTH_PLACE_2%'] = data['BIRTH_PLACE_2']\n",
    "        self.data['%ISSUING_BODY_2%'] = data['ISSUING_BODY_2']\n",
    "        self.address = self.data['%LAST_NAME%'] + '_' + self.data['%FIRST_NAME%'] + '_' + self.data['%PERSONAL_NUMBER%']\n",
    "        \n",
    "    def save(self):\n",
    "        document = Document('Belarus/Belarus_pass.docx')\n",
    "        for par in document.paragraphs:\n",
    "            for run in par.runs:\n",
    "                for key in self.data.keys():\n",
    "                    run.text = run.text.replace(key, self.data[key])\n",
    "        if not(os.path.isdir(self.address)):\n",
    "             os.mkdir(self.address)\n",
    "        document.save(self.address + '/' + self.address + '.docx')\n",
    "        "
   ]
  },
  {
   "cell_type": "code",
   "execution_count": 85,
   "metadata": {},
   "outputs": [],
   "source": [
    "with open(\"example.json\", \"r\") as f:\n",
    "    data = json.load(f)\n",
    "bt = BelarusTemplate(data)"
   ]
  },
  {
   "cell_type": "code",
   "execution_count": 86,
   "metadata": {},
   "outputs": [
    {
     "name": "stdout",
     "output_type": "stream",
     "text": [
      "{'LAST_NAME': 'Devil', 'FIRST_NAME': 'May', 'PATRONYMIC': 'Cry', 'BIRTH_DATE': 'Die', 'BIRTH_PLACE': 'Die', 'PERSONAL_NUMBER': 'Die', 'ISSUE_DATE': 'Die', 'EXPIRATION_DATE': 'Die', 'ISSUING_BODY': 'Die', 'TYPE': 'Die', 'COUNTRY_ID': 'Die', 'CITIZENSHIP': 'Die', 'SEX': 'Die', 'BIRTH_PLACE_2': 'Die', 'ISSUING_BODY_2': 'Die'}\n"
     ]
    }
   ],
   "source": [
    "print(data)"
   ]
  },
  {
   "cell_type": "code",
   "execution_count": 87,
   "metadata": {},
   "outputs": [],
   "source": [
    "bt.save()"
   ]
  },
  {
   "cell_type": "code",
   "execution_count": null,
   "metadata": {},
   "outputs": [],
   "source": []
  }
 ],
 "metadata": {
  "kernelspec": {
   "display_name": "Python 3",
   "language": "python",
   "name": "python3"
  },
  "language_info": {
   "codemirror_mode": {
    "name": "ipython",
    "version": 3
   },
   "file_extension": ".py",
   "mimetype": "text/x-python",
   "name": "python",
   "nbconvert_exporter": "python",
   "pygments_lexer": "ipython3",
   "version": "3.7.3"
  }
 },
 "nbformat": 4,
 "nbformat_minor": 2
}
