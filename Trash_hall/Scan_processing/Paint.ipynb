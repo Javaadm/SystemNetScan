{
 "cells": [
  {
   "cell_type": "code",
   "execution_count": 8,
   "metadata": {},
   "outputs": [],
   "source": [
    "from PIL import Image, ImageDraw, ImageFont\n",
    "import pytesseract\n",
    "from tesserocr import PyTessBaseAPI\n",
    "from PIL import Image\n",
    "import matplotlib.image as mpimg\n",
    "import matplotlib.pyplot as plt\n",
    "import math"
   ]
  },
  {
   "cell_type": "code",
   "execution_count": 3,
   "metadata": {},
   "outputs": [],
   "source": [
    "def prepare(image, name, crop=None, brightness_border = 180, scale=0):\n",
    "    if(crop!=None):\n",
    "        image = image.crop(crop)\n",
    "        image.save(name)\n",
    "    bw_name = name[0:-4] + '_bw.jpg'\n",
    "    column = image\n",
    "    gray = column.convert('L')\n",
    "    blackwhite = gray.point(lambda x: 0 if x < brightness_border else 255, '1')\n",
    "    newimg1 = Image.new('RGB', size=[x*(scale*2 + 1) for x in blackwhite.size], color='white')\n",
    "    newimg1.paste(blackwhite, [x*scale for x in blackwhite.size])\n",
    "    newimg1.save(bw_name)\n",
    "    return blackwhite\n",
    "\n",
    "def show(image, crop, color=\"green\", width=3):\n",
    "    d = ImageDraw.Draw(image)\n",
    "    d.rectangle(crop, outline=color, width=width)\n",
    "    image.show()"
   ]
  },
  {
   "cell_type": "code",
   "execution_count": 4,
   "metadata": {},
   "outputs": [],
   "source": [
    "def birth_date(brightness_border=180, scale=1):\n",
    "    base = Image.open('final_pass15.jpg').convert('RGB')\n",
    "\n",
    "    birth_date_crop=[x//2 for x in base.size]*2;\n",
    "    #print(birth_date_crop)\n",
    "    birth_date_crop[0]+=-1120\n",
    "    birth_date_crop[1]+=775\n",
    "    birth_date_crop[2]+=320\n",
    "    birth_date_crop[3]+=895\n",
    "    #show(base, birth_date_crop)\n",
    "    prepare(base, \"birth_date.jpg\", birth_date_crop, brightness_border=brightness_border, scale=scale)\n",
    "    return \"birth_date_bw.jpg\""
   ]
  },
  {
   "cell_type": "code",
   "execution_count": 5,
   "metadata": {
    "scrolled": true
   },
   "outputs": [],
   "source": [
    "def birth_place(brightness_border=180, scale=1):\n",
    "    base = Image.open('final_pass15.jpg').convert('RGB')\n",
    "\n",
    "    birth_place_crop=[x//2 for x in base.size]*2;\n",
    "    #print(birth_place_crop)\n",
    "    birth_place_crop[0]+=-30\n",
    "    birth_place_crop[1]+=860\n",
    "    birth_place_crop[2]+=1050\n",
    "    birth_place_crop[3]+=1060\n",
    "    #print(birth_place_crop)\n",
    "    #show(base, birth_place_crop)\n",
    "    prepare(base, \"birth_place.jpg\", birth_place_crop, brightness_border=brightness_border, scale=scale)\n",
    "    return \"birth_place_bw.jpg\""
   ]
  },
  {
   "cell_type": "code",
   "execution_count": 6,
   "metadata": {},
   "outputs": [],
   "source": [
    "def personal_number(brightness_border=180, scale=1):\n",
    "    base = Image.open('final_pass15.jpg').convert('RGB')\n",
    "\n",
    "    personaln_crop=[x//2 for x in base.size]*2;\n",
    "    #print(personaln_crop)\n",
    "    personaln_crop[0]+=370\n",
    "    personaln_crop[1]+=760\n",
    "    personaln_crop[2]+=1120\n",
    "    personaln_crop[3]+=860\n",
    "    #print(personaln_crop)\n",
    "    #show(base, personaln_crop)\n",
    "    prepare(base, \"personal_number.jpg\", personaln_crop, brightness_border=brightness_border, scale=scale)\n",
    "    return \"personal_number_bw.jpg\""
   ]
  },
  {
   "cell_type": "code",
   "execution_count": 7,
   "metadata": {},
   "outputs": [],
   "source": [
    "def issuing_date(brightness_border=180, scale=1):\n",
    "    base = Image.open('final_pass15.jpg').convert('RGB')\n",
    "\n",
    "    personaln_crop=[x//2 for x in base.size]*2;\n",
    "    #print(personaln_crop)\n",
    "    personaln_crop[0]+=-1010\n",
    "    personaln_crop[1]+=1330\n",
    "    personaln_crop[2]+=-470\n",
    "    personaln_crop[3]+=1400   \n",
    "    #print(personaln_crop)\n",
    "    #show(base, personaln_crop)\n",
    "    prepare(base, \"issuing_date.jpg\", personaln_crop, brightness_border=brightness_border, scale=scale)\n",
    "    return \"issuing_date_bw.jpg\""
   ]
  },
  {
   "cell_type": "code",
   "execution_count": 8,
   "metadata": {},
   "outputs": [],
   "source": [
    "def expiration_date(brightness_border=180, scale=1):\n",
    "    base = Image.open('final_pass15.jpg').convert('RGB')\n",
    "\n",
    "    personaln_crop=[x//2 for x in base.size]*2;\n",
    "    #print(personaln_crop)\n",
    "    personaln_crop[0]+=350\n",
    "    personaln_crop[1]+=1330\n",
    "    personaln_crop[2]+=1150\n",
    "    personaln_crop[3]+=1400  \n",
    "    #print(personaln_crop)\n",
    "    #show(base, personaln_crop)\n",
    "    prepare(base, \"expiration_date.jpg\", personaln_crop, brightness_border=brightness_border, scale=scale)\n",
    "    return \"expiration_date_bw.jpg\""
   ]
  },
  {
   "cell_type": "code",
   "execution_count": 9,
   "metadata": {},
   "outputs": [
    {
     "name": "stdout",
     "output_type": "stream",
     "text": [
      "[1230, 1735, 1230, 1735]\n"
     ]
    }
   ],
   "source": [
    "base = Image.open('final_pass16.jpg').convert('RGB')\n",
    "print([x//2 for x in base.size]*2)"
   ]
  },
  {
   "cell_type": "code",
   "execution_count": 216,
   "metadata": {},
   "outputs": [
    {
     "name": "stdout",
     "output_type": "stream",
     "text": [
      "birth date: 21 05 1977\n",
      "birth_place: РЕСПУБЛИКА БЕЛАРУСЬ, Г МИНСК\n",
      "issuing_date: 11 09 2002\n",
      "expiration_date: 21 05 2022\n"
     ]
    }
   ],
   "source": [
    "image = Image.open(birth_date())\n",
    "birth_date = pytesseract.image_to_string(image, lang='rus')\n",
    "image = Image.open(issuing_date())\n",
    "issuing_date = pytesseract.image_to_string(image, lang='rus')\n",
    "image = Image.open(expiration_date())\n",
    "expiration_date = pytesseract.image_to_string(image, lang='rus')\n",
    "image = Image.open(birth_place())\n",
    "birth_place = pytesseract.image_to_string(image, lang='rus')\n",
    "print(\"birth date:\", birth_date)\n",
    "print(\"birth_place:\", birth_place)\n",
    "print(\"issuing_date:\", issuing_date)\n",
    "print(\"expiration_date:\", expiration_date)"
   ]
  },
  {
   "cell_type": "code",
   "execution_count": 228,
   "metadata": {
    "scrolled": false
   },
   "outputs": [
    {
     "name": "stdout",
     "output_type": "stream",
     "text": [
      "brightness_border is  160\n",
      "rel: 21 05 2022\n"
     ]
    },
    {
     "data": {
      "image/png": "[encoded data removed]",
      "text/plain": [
       "<Figure size 432x288 with 1 Axes>"
      ]
     },
     "metadata": {
      "needs_background": "light"
     },
     "output_type": "display_data"
    },
    {
     "name": "stdout",
     "output_type": "stream",
     "text": [
      "bad: 21 05 2022    True\n",
      "eng: 21 05 2022    True\n",
      "rus: 21 05 гОгг2    False\n",
      "bel: 21 05 2022    True\n",
      "osd: 2า 05 2022    False\n",
      "brightness_border is  165\n",
      "rel: 21 05 2022\n"
     ]
    },
    {
     "data": {
      "image/png": "[encoded data removed]",
      "text/plain": [
       "<Figure size 432x288 with 1 Axes>"
      ]
     },
     "metadata": {
      "needs_background": "light"
     },
     "output_type": "display_data"
    },
    {
     "name": "stdout",
     "output_type": "stream",
     "text": [
      "bad: 21 05 2022    True\n",
      "eng: 21 05 2022    True\n",
      "rus: 21 05 ггг    False\n",
      "bel: 21 05 2022    True\n",
      "osd: 2า 05 2022    False\n",
      "brightness_border is  170\n",
      "rel: 21 05 2022\n"
     ]
    },
    {
     "data": {
      "image/png": "[encoded data removed]",
      "text/plain": [
       "<Figure size 432x288 with 1 Axes>"
      ]
     },
     "metadata": {
      "needs_background": "light"
     },
     "output_type": "display_data"
    },
    {
     "name": "stdout",
     "output_type": "stream",
     "text": [
      "bad: 21 05 2022    True\n",
      "eng: 21 05 2022    True\n",
      "rus: 21 05 ггг    False\n",
      "bel: 21 05 2022    True\n",
      "osd: 2า 05 2022    False\n",
      "brightness_border is  175\n",
      "rel: 21 05 2022\n"
     ]
    },
    {
     "data": {
      "image/png": "[encoded data removed]",
      "text/plain": [
       "<Figure size 432x288 with 1 Axes>"
      ]
     },
     "metadata": {
      "needs_background": "light"
     },
     "output_type": "display_data"
    },
    {
     "name": "stdout",
     "output_type": "stream",
     "text": [
      "bad: 21 05 2022    True\n",
      "eng: 21 05 2022    True\n",
      "rus: 21 05 2022    True\n",
      "bel: 21 05 2022    True\n",
      "osd: 2า οs 2ο22    False\n",
      "brightness_border is  180\n",
      "rel: 21 05 2022\n"
     ]
    },
    {
     "data": {
      "image/png": "[encoded data removed]",
      "text/plain": [
       "<Figure size 432x288 with 1 Axes>"
      ]
     },
     "metadata": {
      "needs_background": "light"
     },
     "output_type": "display_data"
    },
    {
     "name": "stdout",
     "output_type": "stream",
     "text": [
      "bad: 21 05 2022    True\n",
      "eng: 21 05 2022    True\n",
      "rus: 21 05 2022    True\n",
      "bel: 21 05 2022    True\n",
      "osd: 2า οs 2ο22    False\n",
      "brightness_border is  185\n",
      "rel: 21 05 2022\n"
     ]
    },
    {
     "data": {
      "image/png": "[encoded data removed]",
      "text/plain": [
       "<Figure size 432x288 with 1 Axes>"
      ]
     },
     "metadata": {
      "needs_background": "light"
     },
     "output_type": "display_data"
    },
    {
     "name": "stdout",
     "output_type": "stream",
     "text": [
      "bad: 21 05 2022    True\n",
      "eng: 21 05 2022    True\n",
      "rus: 21 05 2022    True\n",
      "bel: 21 05 2022    True\n",
      "osd: 2า οട 2o22    False\n",
      "brightness_border is  190\n",
      "rel: 21 05 2022\n"
     ]
    },
    {
     "data": {
      "image/png": "[encoded data removed]",
      "text/plain": [
       "<Figure size 432x288 with 1 Axes>"
      ]
     },
     "metadata": {
      "needs_background": "light"
     },
     "output_type": "display_data"
    },
    {
     "name": "stdout",
     "output_type": "stream",
     "text": [
      "bad: 21 05 2022    True\n",
      "eng: 21 05 2022    True\n",
      "rus: 21 05 2022    True\n",
      "bel: 21 05 2022    True\n",
      "osd: 2า οs 2ο22    False\n",
      "brightness_border is  195\n",
      "rel: 21 05 2022\n"
     ]
    },
    {
     "data": {
      "image/png": "[encoded data removed]",
      "text/plain": [
       "<Figure size 432x288 with 1 Axes>"
      ]
     },
     "metadata": {
      "needs_background": "light"
     },
     "output_type": "display_data"
    },
    {
     "name": "stdout",
     "output_type": "stream",
     "text": [
      "bad: 21 05 2022    True\n",
      "eng: 21 05 2022    True\n",
      "rus: 21 05 2022    True\n",
      "bel: 21 05 2022    True\n",
      "osd: gา οs 2οεε    False\n"
     ]
    }
   ],
   "source": [
    "for brb in list(range(160, 200, 5)):\n",
    "    print(\"brightness_border is \", brb)\n",
    "    image_name = expiration_date(brightness_border=brb)\n",
    "    img = Image.open(image_name)\n",
    "    plt_img=mpimg.imread(image_name)\n",
    "    imgplot = plt.imshow(plt_img)\n",
    "    best2 = \"21 05 1977\"\n",
    "    best3 = \"11 09 2002\"\n",
    "    best4 = \"21 05 2022\"\n",
    "    best5 = \"MP1367595\"\n",
    "    best = best5\n",
    "    print(\"rel:\", best)\n",
    "    plt.show()\n",
    "    img.load()\n",
    "    with PyTessBaseAPI() as api:\n",
    "        api.SetImageFile(image_name)\n",
    "        text = api.GetUTF8Text()[:-1]\n",
    "        print(\"bad:\", text, \"  \", text == best)\n",
    "    text1 = pytesseract.image_to_string(img, lang='eng')\n",
    "    print(\"eng:\", text1, \"  \", text1 == best)\n",
    "    text2 = pytesseract.image_to_string(img, lang='rus')\n",
    "    print(\"rus:\", text2, \"  \", text2 == best)\n",
    "    text3 = pytesseract.image_to_string(img, lang='bel')\n",
    "    print(\"bel:\", text3, \"  \", text3 == best)\n",
    "    text4 = pytesseract.image_to_string(img, lang='osd')\n",
    "    print(\"osd:\", text4, \"  \", text4 == best)\n",
    "    \n",
    "    "
   ]
  },
  {
   "cell_type": "code",
   "execution_count": 17,
   "metadata": {},
   "outputs": [
    {
     "data": {
      "image/png": "[encoded data removed]",
      "text/plain": [
       "<Figure size 432x288 with 2 Axes>"
      ]
     },
     "metadata": {},
     "output_type": "display_data"
    }
   ],
   "source": [
    "import numpy as np\n",
    "import cv2 as cv\n",
    "from matplotlib import pyplot as plt\n",
    "img = cv.imread('out15.jpg',0)\n",
    "edges = cv.Canny(img,150,200)\n",
    "plt.subplot(121),plt.imshow(img,cmap = 'gray')\n",
    "plt.title('Original Image'), plt.xticks([]), plt.yticks([])\n",
    "plt.subplot(122),plt.imshow(edges,cmap = 'gray')\n",
    "plt.title('Edge Image'), plt.xticks([]), plt.yticks([])\n",
    "plt.show()"
   ]
  },
  {
   "cell_type": "code",
   "execution_count": 236,
   "metadata": {
    "scrolled": true
   },
   "outputs": [
    {
     "data": {
      "image/png": "[encoded data removed]",
      "text/plain": [
       "<Figure size 432x288 with 2 Axes>"
      ]
     },
     "metadata": {},
     "output_type": "display_data"
    }
   ],
   "source": [
    "import numpy as np\n",
    "import cv2 as cv\n",
    "from matplotlib import pyplot as plt\n",
    "imageName = 'out15'\n",
    "img = Image.open(imageName + '.jpg').convert('L')\n",
    "img.save(imageName + '_grayscale.jpg')\n",
    "img = cv.imread(imageName + '_grayscale.jpg',0)\n",
    "edges = cv.Canny(img,7, 14)\n",
    "plt.subplot(121),plt.imshow(img,cmap = 'gray')\n",
    "plt.title('Original Image'), plt.xticks([]), plt.yticks([])\n",
    "plt.subplot(122),plt.imshow(edges,cmap = 'gray')\n",
    "plt.title('Edge Image'), plt.xticks([]), plt.yticks([])\n",
    "plt.show()\n",
    "cv.imwrite(\"edges.jpg\", edges)\n",
    "\n",
    "with open(\"C_directory/image.txt\", \"w\") as f:\n",
    "    a = edges.tolist()\n",
    "    f.write(str(len(a)) + ' ' + str(len(a[0])))\n",
    "    for i in a:\n",
    "        for j in i:\n",
    "            f.write(' ' + str(j))"
   ]
  },
  {
   "cell_type": "code",
   "execution_count": 237,
   "metadata": {},
   "outputs": [
    {
     "name": "stdout",
     "output_type": "stream",
     "text": [
      "[3895, 511, 370, 2919]\n"
     ]
    }
   ],
   "source": [
    "coords = []\n",
    "with open(\"C_directory/coordinates_4p.txt\", \"r+\") as file:\n",
    "    arr = file.readline().split(' ')\n",
    "    coords = [int(x) for x in (arr)]\n",
    "print(coords[:-4])\n",
    "#show(Image.open(imageName + \".jpg\").convert(\"RGB\"), coords[:-4], color=\"red\")"
   ]
  },
  {
   "cell_type": "code",
   "execution_count": 238,
   "metadata": {},
   "outputs": [],
   "source": [
    "def fill_around(image, diag, ux, uy):\n",
    "    canvas = Image.new(\"RGB\", (diag, diag), \"white\")\n",
    "    canvas.paste(image, (diag//2 - uy, diag//2 - ux))\n",
    "    return canvas\n",
    "    #canvas.save(\"pass_on_centre.jpg\")\n",
    "    \n",
    "    \n",
    "def get_center(coords):\n",
    "    ux = sum(coords[1:4:2])//2\n",
    "    uy = sum(coords[0:3:2])//2\n",
    "    print(ux, ' ', uy)\n",
    "    ux = sum(coords[5:8:2])//2\n",
    "    uy = sum(coords[4:7:2])//2\n",
    "    print(ux, ' ', uy)\n",
    "    ux = sum(coords[1::2])//4\n",
    "    uy = sum(coords[0::2])//4\n",
    "    print(ux, ' ', uy)\n",
    "    return ux, uy\n",
    "\n",
    "\n",
    "def find_rotate_angle(x0, y0, x1, y1, x2, y2):\n",
    "    if(((x0 - x1)**2 + (y0 - y1)**2) > ((x0 - x2)**2 + (y0 - y2)**2)):\n",
    "        return -(math.atan2(x0-x2, y0-y2)) \n",
    "    else:\n",
    "        return -(math.atan2(x0-x1, y0-y1))\n",
    "\n",
    "    \n",
    "def ort_rotate(rotate_angle, image):\n",
    "    rotate_angle = rotate_angle * 180 / math.pi\n",
    "    image = image.rotate(rotate_angle)\n",
    "    return image\n",
    "\n",
    "\n",
    "def rotate(origin, point, angle):\n",
    "    \"\"\"\n",
    "    Rotate a point counterclockwise by a given angle around a given origin.\n",
    "\n",
    "    The angle should be given in radians.\n",
    "    \"\"\"\n",
    "    ox, oy = origin[0], origin[1]\n",
    "    px, py = point[0], point[1]\n",
    "\n",
    "    qx = ox + math.cos(angle) * (px - ox) - math.sin(angle) * (py - oy)\n",
    "    qy = oy + math.sin(angle) * (px - ox) + math.cos(angle) * (py - oy)\n",
    "    return [qx, qy]\n",
    "\n",
    "\n",
    "def new_points(coords, diag, ux, uy):\n",
    "    coords2 = coords[:]\n",
    "    for i in range(4):\n",
    "        coords2[i*2] += diag//2 - uy\n",
    "        coords2[i*2 + 1] += diag//2 - ux\n",
    "    return coords2\n",
    "\n",
    "\n",
    "def rotated_points(coords2, diag, angle):\n",
    "    coords3 = coords2[:]\n",
    "    for i in range(4):\n",
    "        q = rotate([diag//2, diag//2], [coords3[i*2], coords3[i*2 + 1]], angle)\n",
    "        coords3[i*2] = int(q[0])\n",
    "        coords3[i*2 + 1] = int(q[1])\n",
    "    return coords3\n"
   ]
  },
  {
   "cell_type": "code",
   "execution_count": 239,
   "metadata": {},
   "outputs": [
    {
     "name": "stdout",
     "output_type": "stream",
     "text": [
      "1715   2132\n",
      "1720   2128\n",
      "1717   2130\n"
     ]
    }
   ],
   "source": [
    "ux, uy = get_center(coords)\n",
    "\n",
    "diag = int(math.sqrt((coords[0] - coords[2])**2 + (coords[1] - coords[3])**2))\n",
    "angle = find_rotate_angle(coords[0], coords[1], coords[2], coords[3], coords[4], coords[5])\n",
    "print(angle)\n",
    "image = ort_rotate(angle,fill_around(Image.open(imageName + \".jpg\"), diag,\n",
    "            ux, uy))\n",
    "\n",
    "image.save(\"rotated_pass.jpg\")\n",
    "\n",
    "print(coords)\n",
    "coords2 = new_points(coords, diag, ux, uy)\n",
    "print(coords)\n",
    "print(coords2)\n",
    "\n",
    "coords3 = rotated_points(coords2, diag, angle)\n",
    "print(coords2)\n",
    "print(coords3)\n",
    "\n",
    "x = coords3[0::2]\n",
    "y = coords3[1::2]\n",
    "print(x, y)\n",
    "\n",
    "x.sort()\n",
    "y.sort()\n",
    "print(x, y)\n",
    "\n",
    "frame = [(x[0] + x[1])//2, (y[0] + y[1])//2, (x[2] + x[3])//2, (y[2] + y[3])//2]\n",
    "print(frame)\n",
    "\n",
    "ready_image = Image.open('rotated_pass.jpg')\n",
    "prepare(ready_image, \"full_fledged_pass.jpg\", frame)\n",
    "\n",
    "img = Image.open(\"full_fledged_pass.jpg\")\n",
    "img = img.rotate(180)\n",
    "img.save(\"full_fledged_pass.jpg\")"
   ]
  },
  {
   "cell_type": "code",
   "execution_count": 25,
   "metadata": {},
   "outputs": [],
   "source": [
    "import json\n",
    "with open('image.json', 'w') as f:\n",
    "    json.dump(edges.tolist(), f)\n"
   ]
  },
  {
   "cell_type": "code",
   "execution_count": 18,
   "metadata": {},
   "outputs": [],
   "source": [
    "img = Image.open(\"out16.jpg\").convert('L')\n",
    "img.save(\"out16_grayscale.jpg\")"
   ]
  },
  {
   "cell_type": "code",
   "execution_count": null,
   "metadata": {},
   "outputs": [],
   "source": []
  }
 ],
 "metadata": {
  "kernelspec": {
   "display_name": "Python 3",
   "language": "python",
   "name": "python3"
  },
  "language_info": {
   "codemirror_mode": {
    "name": "ipython",
    "version": 3
   },
   "file_extension": ".py",
   "mimetype": "text/x-python",
   "name": "python",
   "nbconvert_exporter": "python",
   "pygments_lexer": "ipython3",
   "version": "3.7.3"
  }
 },
 "nbformat": 4,
 "nbformat_minor": 2
}
