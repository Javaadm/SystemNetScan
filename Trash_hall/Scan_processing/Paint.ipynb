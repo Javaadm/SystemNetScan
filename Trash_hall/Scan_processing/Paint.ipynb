{
 "cells": [
  {
   "cell_type": "code",
   "execution_count": 1,
   "metadata": {},
   "outputs": [],
   "source": [
    "from PIL import Image, ImageDraw, ImageFont\n",
    "import pytesseract\n",
    "from tesserocr import PyTessBaseAPI\n",
    "from PIL import Image\n",
    "import matplotlib.image as mpimg\n",
    "import matplotlib.pyplot as plt\n",
    "import math"
   ]
  },
  {
   "cell_type": "code",
   "execution_count": 36,
   "metadata": {},
   "outputs": [],
   "source": [
    "def prepare(image, crop=None, brightness_border = 180, scale=0):\n",
    "    if(crop!=None):\n",
    "        image = image.crop(crop)\n",
    "    column = image\n",
    "    gray = column.convert('L')\n",
    "    blackwhite = gray.point(lambda x: 0 if x < brightness_border else 255, '1')\n",
    "    newimg1 = Image.new('RGB', size=[x*(scale*2 + 1) for x in blackwhite.size], color='white')\n",
    "    newimg1.paste(blackwhite, [x*scale for x in blackwhite.size])\n",
    "    return blackwhite\n",
    "\n",
    "def show(image, crop=None, color=\"green\", width=3):\n",
    "    d = ImageDraw.Draw(image)\n",
    "    if not(crop is None):\n",
    "        d.rectangle(crop, outline=color, width=width)\n",
    "    image.show()\n"
   ]
  },
  {
   "cell_type": "code",
   "execution_count": 43,
   "metadata": {},
   "outputs": [],
   "source": [
    "def cut_page_number(image):\n",
    "    base_crop = [x for x in image.size]\n",
    "    crop = base_crop*2\n",
    "    crop[0] = 0\n",
    "    crop[1] = 0.013*base_crop[1]\n",
    "    crop[2] = 0.162*base_crop[0]\n",
    "    crop[3] = crop[1] + 0.162*base_crop[0]\n",
    "    return prepare(image, crop=crop, brightness_border=150, scale=1)\n"
   ]
  },
  {
   "cell_type": "code",
   "execution_count": 44,
   "metadata": {},
   "outputs": [],
   "source": [
    "image = Image.open(\"final_pass16.jpg\")\n",
    "image = cut_page_number(image)\n",
    "image = image.rotate(90)\n",
    "image.save(\"page_number.jpg\")"
   ]
  },
  {
   "cell_type": "code",
   "execution_count": 45,
   "metadata": {},
   "outputs": [
    {
     "name": "stdout",
     "output_type": "stream",
     "text": [
      "32\n"
     ]
    }
   ],
   "source": [
    "number = pytesseract.image_to_string(image, lang='eng')\n",
    "print(number)"
   ]
  }
 ],
 "metadata": {
  "kernelspec": {
   "display_name": "Python 3",
   "language": "python",
   "name": "python3"
  },
  "language_info": {
   "codemirror_mode": {
    "name": "ipython",
    "version": 3
   },
   "file_extension": ".py",
   "mimetype": "text/x-python",
   "name": "python",
   "nbconvert_exporter": "python",
   "pygments_lexer": "ipython3",
   "version": "3.7.3"
  }
 },
 "nbformat": 4,
 "nbformat_minor": 2
}
