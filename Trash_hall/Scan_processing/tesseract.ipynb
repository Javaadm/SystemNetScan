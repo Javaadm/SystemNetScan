{
 "cells": [
  {
   "cell_type": "code",
   "execution_count": 36,
   "metadata": {},
   "outputs": [],
   "source": [
    "import pytesseract\n",
    "from tesserocr import PyTessBaseAPI\n",
    "from PIL import Image"
   ]
  },
  {
   "cell_type": "code",
   "execution_count": 68,
   "metadata": {},
   "outputs": [
    {
     "name": "stdout",
     "output_type": "stream",
     "text": [
      "bad: 21 05 1977\n",
      "\n",
      "eng: 21 05 1977\n",
      "rus: 21 05 1977\n",
      "bel: 21 05 1977\n",
      "0\n"
     ]
    }
   ],
   "source": [
    "image_name = 'birth_date_bw.jpg'\n",
    "img = Image.open(image_name)\n",
    "img.load()\n",
    "with PyTessBaseAPI() as api:\n",
    "    api.SetImageFile(image_name)\n",
    "    print(\"bad:\", api.GetUTF8Text())\n",
    "text1 = pytesseract.image_to_string(img, lang='eng')\n",
    "print(\"eng:\", text1)\n",
    "text2 = pytesseract.image_to_string(img, lang='rus')\n",
    "print(\"rus:\", text2)\n",
    "text3 = pytesseract.image_to_string(img, lang='bel')\n",
    "print(\"bel:\", text3)\n",
    "text1[3] == text2[3]\n",
    "print(text1[3])"
   ]
  },
  {
   "cell_type": "code",
   "execution_count": 62,
   "metadata": {},
   "outputs": [
    {
     "name": "stdout",
     "output_type": "stream",
     "text": [
      "21 05 197¢\n"
     ]
    }
   ],
   "source": [
    "text = pytesseract.image_to_string(img, config='digits')\n",
    "print(text)"
   ]
  },
  {
   "cell_type": "code",
   "execution_count": 72,
   "metadata": {},
   "outputs": [
    {
     "name": "stdout",
     "output_type": "stream",
     "text": [
      "[0, 2, 4, 6]\n"
     ]
    }
   ],
   "source": []
  }
 ],
 "metadata": {
  "kernelspec": {
   "display_name": "Python 3",
   "language": "python",
   "name": "python3"
  },
  "language_info": {
   "codemirror_mode": {
    "name": "ipython",
    "version": 3
   },
   "file_extension": ".py",
   "mimetype": "text/x-python",
   "name": "python",
   "nbconvert_exporter": "python",
   "pygments_lexer": "ipython3",
   "version": "3.7.3"
  }
 },
 "nbformat": 4,
 "nbformat_minor": 2
}
