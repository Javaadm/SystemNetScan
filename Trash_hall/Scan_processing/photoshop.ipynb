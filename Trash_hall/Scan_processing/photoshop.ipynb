{
 "cells": [
  {
   "cell_type": "code",
   "execution_count": 2,
   "metadata": {},
   "outputs": [],
   "source": [
    "from PIL import Image\n",
    "import numpy as np\n",
    "import cv2\n",
    "from scipy import ndimage\n",
    "import matplotlib.pyplot as plt\n",
    "from tqdm import tqdm\n",
    "import imutils\n",
    "from imutils.perspective import four_point_transform"
   ]
  },
  {
   "cell_type": "code",
   "execution_count": 7,
   "metadata": {},
   "outputs": [],
   "source": [
    "def dilate_cv2(image, iterations=1):\n",
    "    kernel = np.ones((5, 5), np.uint8)\n",
    "    return cv2.dilate(image, kernel, iterations=iterations)\n",
    " \n",
    " \n",
    "def find_rects(contours):\n",
    "    main_contours = []\n",
    "    for contour in contours:\n",
    "        rect = cv2.minAreaRect(contour)\n",
    "        box = cv2.boxPoints(rect)\n",
    "        box = np.int0(box)\n",
    " \n",
    "        area = int(rect[1][0] * rect[1][1])\n",
    "        if area > 500:\n",
    "            main_contours.append(box)\n",
    "    return np.asarray(main_contours)\n",
    " \n",
    " \n",
    "def find_edges_by_cv2(image, is_gray=True):\n",
    "    if not is_gray:\n",
    "        image = cv2.cvtColor(image, cv2.COLOR_BGR2GRAY)\n",
    "    image = cv2.GaussianBlur(image, (5, 5), 0)\n",
    "    image = cv2.Canny(image, 75, 200)\n",
    "    return image\n",
    " \n",
    " \n",
    "def thresholding_otsu_cv2(img, blur=True, inverse=True, to_grayscale=True):\n",
    "    orig_height = img.shape[0]\n",
    "    img = imutils.resize(img, height=500)\n",
    "    if blur:\n",
    "        img = cv2.medianBlur(img, 5)\n",
    "    if to_grayscale:\n",
    "        img = cv2.cvtColor(img, cv2.COLOR_BGR2GRAY)\n",
    "    if inverse:\n",
    "        ret, img = cv2.threshold(img, 0, 255, cv2.THRESH_BINARY_INV + cv2.THRESH_OTSU)\n",
    "    else:\n",
    "        ret, img = cv2.threshold(img, 0, 255, cv2.THRESH_BINARY + cv2.THRESH_OTSU)\n",
    "    img = imutils.resize(img, height=orig_height)\n",
    "    return img\n",
    " \n",
    " \n",
    "def remove_noise_cv2(img, iterations=2):\n",
    "    kernel = np.ones((3, 3), np.uint8)\n",
    "    img = cv2.morphologyEx(img, cv2.MORPH_OPEN, kernel, iterations=iterations)\n",
    "    kernel = np.ones((3, 3), np.uint8)\n",
    "    img = cv2.morphologyEx(img, cv2.MORPH_CLOSE, kernel, iterations=iterations)\n",
    "    return img\n",
    " \n",
    " \n",
    "def find_docs_cv2(image):\n",
    "    orig_image = image.copy()\n",
    "    ratio = orig_image.shape[0] / 500.0\n",
    "    image = imutils.resize(image, height=500)\n",
    " \n",
    "    image = cv2.pyrMeanShiftFiltering(image, 21, 51)\n",
    "    image = thresholding_otsu_cv2(image)\n",
    "    image = remove_noise_cv2(image)\n",
    "    image = dilate_cv2(image, 1)\n",
    "    image = find_edges_by_cv2(image)\n",
    " \n",
    "    contours = cv2.findContours(image, cv2.RETR_EXTERNAL, cv2.CHAIN_APPROX_TC89_KCOS)\n",
    "    contours = imutils.grab_contours(contours)\n",
    "    main_contours = find_rects(contours) * ratio\n",
    " \n",
    "    images = []\n",
    "    for contour in main_contours:\n",
    "        points = np.asarray(contour).reshape(4, 2)\n",
    "        document = four_point_transform(orig_image.copy(), points)\n",
    "        images.append(document)\n",
    "    return main_contours"
   ]
  },
  {
   "cell_type": "code",
   "execution_count": 8,
   "metadata": {},
   "outputs": [
    {
     "data": {
      "text/plain": [
       "array([], dtype=float64)"
      ]
     },
     "execution_count": 8,
     "metadata": {},
     "output_type": "execute_result"
    }
   ],
   "source": [
    "base = cv2.imread('out15.jpg')\n",
    "find_docs_cv2(base)"
   ]
  }
 ],
 "metadata": {
  "kernelspec": {
   "display_name": "Python 3",
   "language": "python",
   "name": "python3"
  },
  "language_info": {
   "codemirror_mode": {
    "name": "ipython",
    "version": 3
   },
   "file_extension": ".py",
   "mimetype": "text/x-python",
   "name": "python",
   "nbconvert_exporter": "python",
   "pygments_lexer": "ipython3",
   "version": "3.7.3"
  }
 },
 "nbformat": 4,
 "nbformat_minor": 2
}
