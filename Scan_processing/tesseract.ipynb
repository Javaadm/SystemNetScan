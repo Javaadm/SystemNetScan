{
 "cells": [
  {
   "cell_type": "code",
   "execution_count": 3,
   "metadata": {},
   "outputs": [],
   "source": [
    "import pytesseract\n",
    "from tesserocr import PyTessBaseAPI\n",
    "from PIL import Image"
   ]
  },
  {
   "cell_type": "code",
   "execution_count": 30,
   "metadata": {},
   "outputs": [],
   "source": [
    "image_name = 'birth_date_bw.jpg'"
   ]
  },
  {
   "cell_type": "code",
   "execution_count": 31,
   "metadata": {},
   "outputs": [
    {
     "name": "stdout",
     "output_type": "stream",
     "text": [
      "21 05 1977\n",
      "\n"
     ]
    }
   ],
   "source": [
    "with PyTessBaseAPI() as api:\n",
    "    api.SetImageFile(image_name)\n",
    "    print(api.GetUTF8Text())"
   ]
  },
  {
   "cell_type": "code",
   "execution_count": 34,
   "metadata": {},
   "outputs": [
    {
     "name": "stdout",
     "output_type": "stream",
     "text": [
      "21.05 1977\n"
     ]
    }
   ],
   "source": [
    "img = Image.open(image_name)\n",
    "img.load()\n",
    "text = pytesseract.image_to_string(img, lang='eng')\n",
    "print(text)"
   ]
  },
  {
   "cell_type": "code",
   "execution_count": 84,
   "metadata": {},
   "outputs": [
    {
     "name": "stdout",
     "output_type": "stream",
     "text": [
      "ih\n",
      "\n",
      "Cw vn REPUBLIC OF BELARUS\n",
      "\n",
      "iy\n",
      "\n",
      "“\n",
      "rev POCTIYBJIKA BEJIAPYCb / PECTIYBJIUKA BEJIAPYCb |\n",
      "\n",
      " \n",
      "\n",
      "TOL WIAHAJIBHIKA : qe ne a\n",
      "_ CHOMIHCE BIIAMEVIBIIA / HOLDER'S SIGNATURE) ey ie\n",
      "\n",
      " \n",
      "   \n",
      " \n",
      "\n",
      " \n",
      "  \n",
      "\n",
      "Bigiectge —\n",
      "\n",
      " \n",
      "\n",
      "|\n",
      "\n",
      "MOAMIC CAYKBOBAM a Ti hae TTAWITTAPT\n",
      "(MOJIMCb OTBETCTBEHHOPMO JIMILIA, KOPOPOE BbIJIAJIO MACTIOPT/\n",
      "| | SIGNATURE OF THE AUTHORITY ISSUING T HE PASSPORT)\n",
      "\n",
      "ui ‘i \\ AAI ha UML ti Nuh Witt WA JAA a {i Al\n",
      "\n",
      "POCTIYBJUKA BEJIAPYCh / REPUBLIC OF BELARUS\n",
      "LLALUITIAPT TOUVPYPE  KOJL/SIPKABbYCODE OF ISst NING HYMAP TLALITIAPTA/PASSPORT No\n",
      "PASSPORT YA Cia = MP1367595\n",
      "\n",
      "MPO3BILUYA/SSURNAME\n",
      "\n",
      "NOVIK\n",
      "\n",
      "IMS/GIVEN NAMES\n",
      "\n",
      "DZMIFRY\n",
      "\n",
      "TPAMAJI3AHCTBA/NATIONALITY\n",
      "‘REPUBLIC OF BELARUS.\n",
      "\n",
      "t JIATA HAPAJDKOHHS/DATE OF BIRTH - ACABICTbI HYMAP/PERSONAL No.\n",
      "|e, Gh Ter7 Ki 3210577A036PB0\n",
      "/ MOJI/SEX MECLIA HAPAJDKOHHA/PLACE OF BIRTH\n",
      "1M REPUBLIC OF BELARUS\n",
      "\n",
      "HATA BbIJAYBI/DATE OF ISSUE OPTAH, SIKI BBIIAY TIALITAPT/AUTHORITY\n",
      "\n",
      "“11-09 ae ~ MINISTRY OF\n",
      "IH J3EAHHS/DATE-OF EXPIRY OARS TEE ARB teu\n",
      "UNS NE GI e2))Nh\n",
      "\n",
      "P<BLRNOVIK<<DZMITRY <<<<<<<<K< 6K KKK 66K KKK KK KK\n",
      "MP1 36 75953BLR7705212M22052123210577A036PB002\n"
     ]
    }
   ],
   "source": [
    "text = pytesseract.image_to_string(img, config='digits')\n",
    "print(text)"
   ]
  },
  {
   "cell_type": "code",
   "execution_count": null,
   "metadata": {},
   "outputs": [],
   "source": []
  }
 ],
 "metadata": {
  "kernelspec": {
   "display_name": "Python 3",
   "language": "python",
   "name": "python3"
  },
  "language_info": {
   "codemirror_mode": {
    "name": "ipython",
    "version": 3
   },
   "file_extension": ".py",
   "mimetype": "text/x-python",
   "name": "python",
   "nbconvert_exporter": "python",
   "pygments_lexer": "ipython3",
   "version": "3.7.3"
  }
 },
 "nbformat": 4,
 "nbformat_minor": 2
}
