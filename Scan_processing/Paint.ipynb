{
 "cells": [
  {
   "cell_type": "code",
   "execution_count": 48,
   "metadata": {},
   "outputs": [],
   "source": [
    "from PIL import Image, ImageDraw, ImageFont"
   ]
  },
  {
   "cell_type": "code",
   "execution_count": 57,
   "metadata": {},
   "outputs": [],
   "source": [
    "def prepare(image, name, crop=None, brightness_border = 120, scale=0):\n",
    "    if(crop!=None):\n",
    "        image = image.crop(crop)\n",
    "        image.save(name)\n",
    "    bw_name = name[0:-4] + '_bw.jpg'\n",
    "    column = image\n",
    "    gray = column.convert('L')\n",
    "    blackwhite = gray.point(lambda x: 0 if x < brightness_border else 255, '1')\n",
    "    newimg1 = Image.new('RGB', size=[x*(scale + 1) for x in blackwhite.size], color='white')\n",
    "    newimg1.paste(blackwhite, [x*scale for x in blackwhite.size])\n",
    "    newimg1.save(bw_name)\n",
    "    return blackwhite\n",
    "\n",
    "def show(image, crop, color=\"green\", width=3):\n",
    "    d = ImageDraw.Draw(image)\n",
    "    d.rectangle(crop, outline=color, width=width)\n",
    "    image.show()"
   ]
  },
  {
   "cell_type": "code",
   "execution_count": 58,
   "metadata": {},
   "outputs": [
    {
     "name": "stdout",
     "output_type": "stream",
     "text": [
      "[1230, 1735, 1230, 1735]\n"
     ]
    },
    {
     "data": {
      "image/png": "[encoded data removed]",
      "text/plain": [
       "<PIL.Image.Image image mode=1 size=540x90 at 0x7F5A58429940>"
      ]
     },
     "execution_count": 58,
     "metadata": {},
     "output_type": "execute_result"
    }
   ],
   "source": [
    "base = Image.open('final_pass16.jpg').convert('RGB')\n",
    "\n",
    "birth_date_crop=[x//2 for x in base.size]*2;\n",
    "print(birth_date_crop)\n",
    "birth_date_crop[0]+=-420\n",
    "birth_date_crop[1]+=705\n",
    "birth_date_crop[2]+=120\n",
    "birth_date_crop[3]+=795\n",
    "\n",
    "#show(base, birth_date_crop)\n",
    "prepare(base, \"birth_date.jpg\", birth_date_crop, brightness_border=180)"
   ]
  },
  {
   "cell_type": "code",
   "execution_count": 59,
   "metadata": {
    "scrolled": true
   },
   "outputs": [
    {
     "name": "stdout",
     "output_type": "stream",
     "text": [
      "[1250, 1740, 1250, 1740]\n",
      "[1220, 2600, 2300, 2800]\n"
     ]
    },
    {
     "data": {
      "image/png": "[encoded data removed]",
      "text/plain": [
       "<PIL.Image.Image image mode=1 size=1080x200 at 0x7F5A58429978>"
      ]
     },
     "execution_count": 59,
     "metadata": {},
     "output_type": "execute_result"
    }
   ],
   "source": [
    "base = Image.open('final_pass15.jpg').convert('RGB')\n",
    "\n",
    "birth_place_crop=[x//2 for x in base.size]*2;\n",
    "print(birth_place_crop)\n",
    "birth_place_crop[0]+=-30\n",
    "birth_place_crop[1]+=860\n",
    "birth_place_crop[2]+=1050\n",
    "birth_place_crop[3]+=1060\n",
    "print(birth_place_crop)\n",
    "#show(base, birth_place_crop)\n",
    "prepare(base, \"birth_place.jpg\", birth_place_crop, scale=2)"
   ]
  },
  {
   "cell_type": "code",
   "execution_count": 42,
   "metadata": {},
   "outputs": [
    {
     "name": "stdout",
     "output_type": "stream",
     "text": [
      "[1250, 1740, 1250, 1740]\n",
      "[1620, 2500, 2370, 2600]\n"
     ]
    },
    {
     "data": {
      "image/png": "[encoded data removed]",
      "text/plain": [
       "<PIL.Image.Image image mode=1 size=750x100 at 0x7F5A59D777F0>"
      ]
     },
     "execution_count": 42,
     "metadata": {},
     "output_type": "execute_result"
    }
   ],
   "source": [
    "base = Image.open('final_pass15.jpg').convert('RGB')\n",
    "\n",
    "personaln_crop=[x//2 for x in base.size]*2;\n",
    "print(personaln_crop)\n",
    "personaln_crop[0]+=370\n",
    "personaln_crop[1]+=760\n",
    "personaln_crop[2]+=1120\n",
    "personaln_crop[3]+=860\n",
    "print(personaln_crop)\n",
    "#show(base, personaln_crop)\n",
    "prepare(base, \"personal_number.jpg\", personaln_crop, brightness_border=180)"
   ]
  },
  {
   "cell_type": "code",
   "execution_count": 6,
   "metadata": {},
   "outputs": [],
   "source": [
    "\n",
    "base = base.crop((830, 2440, 1350, 2520))\n",
    "\n",
    "base.save(\"birth_date.jpg\")"
   ]
  },
  {
   "cell_type": "code",
   "execution_count": 63,
   "metadata": {},
   "outputs": [],
   "source": [
    "image_name = 'birth_date.jpg'\n",
    "bw_image_name = image_name[0:-4] + '_bw.jpg'\n",
    "column = Image.open(image_name)\n",
    "gray = column.convert('L')\n",
    "blackwhite = gray.point(lambda x: 0 if x < 100 else 255, '1')\n",
    "blackwhite.save(bw_image_name)\n",
    "image_name = bw_image_name"
   ]
  },
  {
   "cell_type": "code",
   "execution_count": 64,
   "metadata": {},
   "outputs": [],
   "source": [
    "base = Image.open('birth_date_bw.jpg').convert('RGB')"
   ]
  },
  {
   "cell_type": "code",
   "execution_count": 65,
   "metadata": {},
   "outputs": [],
   "source": [
    "big_white = Image.new('RGB', size=([5*x for x in base.size]), color=\"white\")\n",
    "big_white.paste(base, [2*x for x in base.size])\n",
    "\n",
    "big_white.save('birth_date_bw.jpg')"
   ]
  }
 ],
 "metadata": {
  "kernelspec": {
   "display_name": "Python 3",
   "language": "python",
   "name": "python3"
  },
  "language_info": {
   "codemirror_mode": {
    "name": "ipython",
    "version": 3
   },
   "file_extension": ".py",
   "mimetype": "text/x-python",
   "name": "python",
   "nbconvert_exporter": "python",
   "pygments_lexer": "ipython3",
   "version": "3.7.3"
  }
 },
 "nbformat": 4,
 "nbformat_minor": 2
}
