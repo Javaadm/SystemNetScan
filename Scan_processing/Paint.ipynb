{
 "cells": [
  {
   "cell_type": "code",
   "execution_count": 122,
   "metadata": {},
   "outputs": [],
   "source": [
    "from PIL import Image, ImageDraw, ImageFont\n",
    "import pytesseract\n",
    "from tesserocr import PyTessBaseAPI\n",
    "from PIL import Image\n",
    "import matplotlib.image as mpimg\n",
    "import matplotlib.pyplot as plt"
   ]
  },
  {
   "cell_type": "code",
   "execution_count": 123,
   "metadata": {},
   "outputs": [],
   "source": [
    "def prepare(image, name, crop=None, brightness_border = 120, scale=0):\n",
    "    if(crop!=None):\n",
    "        image = image.crop(crop)\n",
    "        image.save(name)\n",
    "    bw_name = name[0:-4] + '_bw.jpg'\n",
    "    column = image\n",
    "    gray = column.convert('L')\n",
    "    blackwhite = gray.point(lambda x: 0 if x < brightness_border else 255, '1')\n",
    "    newimg1 = Image.new('RGB', size=[x*(scale*2 + 1) for x in blackwhite.size], color='white')\n",
    "    newimg1.paste(blackwhite, [x*scale for x in blackwhite.size])\n",
    "    newimg1.save(bw_name)\n",
    "    return blackwhite\n",
    "\n",
    "def show(image, crop, color=\"green\", width=3):\n",
    "    d = ImageDraw.Draw(image)\n",
    "    d.rectangle(crop, outline=color, width=width)\n",
    "    image.show()"
   ]
  },
  {
   "cell_type": "code",
   "execution_count": 135,
   "metadata": {},
   "outputs": [],
   "source": [
    "def birth_date(brightness_border=150, scale=0):\n",
    "    base = Image.open('final_pass15.jpg').convert('RGB')\n",
    "\n",
    "    birth_date_crop=[x//2 for x in base.size]*2;\n",
    "    #print(birth_date_crop)\n",
    "    birth_date_crop[0]+=-1120\n",
    "    birth_date_crop[1]+=775\n",
    "    birth_date_crop[2]+=320\n",
    "    birth_date_crop[3]+=895\n",
    "    #show(base, birth_date_crop)\n",
    "    prepare(base, \"birth_date.jpg\", birth_date_crop, brightness_border=brightness_border, scale=scale)\n",
    "    return \"birth_date_bw.jpg\""
   ]
  },
  {
   "cell_type": "code",
   "execution_count": 136,
   "metadata": {
    "scrolled": true
   },
   "outputs": [],
   "source": [
    "def birth_place(brightness_border=150, scale=0):\n",
    "    base = Image.open('final_pass15.jpg').convert('RGB')\n",
    "\n",
    "    birth_place_crop=[x//2 for x in base.size]*2;\n",
    "    #print(birth_place_crop)\n",
    "    birth_place_crop[0]+=-30\n",
    "    birth_place_crop[1]+=860\n",
    "    birth_place_crop[2]+=1050\n",
    "    birth_place_crop[3]+=1060\n",
    "    #print(birth_place_crop)\n",
    "    #show(base, birth_place_crop)\n",
    "    prepare(base, \"birth_place.jpg\", birth_place_crop, brightness_border=brightness_border, scale=scale)\n",
    "    return \"birth_place_bw.jpg\""
   ]
  },
  {
   "cell_type": "code",
   "execution_count": 137,
   "metadata": {},
   "outputs": [],
   "source": [
    "def personal_number(brightness_border=150, scale=0):\n",
    "    base = Image.open('final_pass15.jpg').convert('RGB')\n",
    "\n",
    "    personaln_crop=[x//2 for x in base.size]*2;\n",
    "    #print(personaln_crop)\n",
    "    personaln_crop[0]+=370\n",
    "    personaln_crop[1]+=760\n",
    "    personaln_crop[2]+=1120\n",
    "    personaln_crop[3]+=860\n",
    "    #print(personaln_crop)\n",
    "    #show(base, personaln_crop)\n",
    "    prepare(base, \"personal_number.jpg\", personaln_crop, brightness_border=brightness_border, scale=scale)\n",
    "    return \"personal_number_bw.jpg\""
   ]
  },
  {
   "cell_type": "code",
   "execution_count": 139,
   "metadata": {
    "scrolled": false
   },
   "outputs": [
    {
     "name": "stdout",
     "output_type": "stream",
     "text": [
      "brightness_border is  160\n",
      "rel: 21 05 1977\n"
     ]
    },
    {
     "data": {
      "image/png": "[encoded data removed]",
      "text/plain": [
       "<Figure size 432x288 with 1 Axes>"
      ]
     },
     "metadata": {
      "needs_background": "light"
     },
     "output_type": "display_data"
    },
    {
     "name": "stdout",
     "output_type": "stream",
     "text": [
      "bad: 21 05 1977    True\n",
      "eng: 21 05 197¢    False\n",
      "rus: 21 05 1977    True\n",
      "bel: 21 05 1977    True\n",
      "brightness_border is  165\n",
      "rel: 21 05 1977\n"
     ]
    },
    {
     "data": {
      "image/png": "[encoded data removed]",
      "text/plain": [
       "<Figure size 432x288 with 1 Axes>"
      ]
     },
     "metadata": {
      "needs_background": "light"
     },
     "output_type": "display_data"
    },
    {
     "name": "stdout",
     "output_type": "stream",
     "text": [
      "bad: 21 05 1977    True\n",
      "eng: 21 05 1977    True\n",
      "rus: 21 05 1977    True\n",
      "bel: 21 05 1977    True\n",
      "brightness_border is  170\n",
      "rel: 21 05 1977\n"
     ]
    },
    {
     "data": {
      "image/png": "[encoded data removed]",
      "text/plain": [
       "<Figure size 432x288 with 1 Axes>"
      ]
     },
     "metadata": {
      "needs_background": "light"
     },
     "output_type": "display_data"
    },
    {
     "name": "stdout",
     "output_type": "stream",
     "text": [
      "bad: 21 05 1977    True\n",
      "eng: 21 05 1977    True\n",
      "rus: 21 05 1977    True\n",
      "bel: 21 05 1977    True\n",
      "brightness_border is  175\n",
      "rel: 21 05 1977\n"
     ]
    },
    {
     "data": {
      "image/png": "[encoded data removed]",
      "text/plain": [
       "<Figure size 432x288 with 1 Axes>"
      ]
     },
     "metadata": {
      "needs_background": "light"
     },
     "output_type": "display_data"
    },
    {
     "name": "stdout",
     "output_type": "stream",
     "text": [
      "bad: 21 05 1977    True\n",
      "eng: 21 05 1977    True\n",
      "rus: 21 05 1977    True\n",
      "bel: 21 05 1977    True\n",
      "brightness_border is  180\n",
      "rel: 21 05 1977\n"
     ]
    },
    {
     "data": {
      "image/png": "[encoded data removed]",
      "text/plain": [
       "<Figure size 432x288 with 1 Axes>"
      ]
     },
     "metadata": {
      "needs_background": "light"
     },
     "output_type": "display_data"
    },
    {
     "name": "stdout",
     "output_type": "stream",
     "text": [
      "bad: 21 05 197¢    False\n",
      "eng: 21 05 197¢    False\n",
      "rus: 21 05 1977    True\n",
      "bel: 21 05 1977    True\n",
      "brightness_border is  185\n",
      "rel: 21 05 1977\n"
     ]
    },
    {
     "data": {
      "image/png": "[encoded data removed]",
      "text/plain": [
       "<Figure size 432x288 with 1 Axes>"
      ]
     },
     "metadata": {
      "needs_background": "light"
     },
     "output_type": "display_data"
    },
    {
     "name": "stdout",
     "output_type": "stream",
     "text": [
      "bad: 21 05 197¢    False\n",
      "eng: 21 05 197¢    False\n",
      "rus: 21 05 1977    True\n",
      "bel: 21 05 1977    True\n",
      "brightness_border is  190\n",
      "rel: 21 05 1977\n"
     ]
    },
    {
     "data": {
      "image/png": "[encoded data removed]",
      "text/plain": [
       "<Figure size 432x288 with 1 Axes>"
      ]
     },
     "metadata": {
      "needs_background": "light"
     },
     "output_type": "display_data"
    },
    {
     "name": "stdout",
     "output_type": "stream",
     "text": [
      "bad: 21 05 1977    True\n",
      "eng: 21 05 1977    True\n",
      "rus: 21 05 1977    True\n",
      "bel: 21 05 1977    True\n",
      "brightness_border is  195\n",
      "rel: 21 05 1977\n"
     ]
    },
    {
     "data": {
      "image/png": "[encoded data removed]",
      "text/plain": [
       "<Figure size 432x288 with 1 Axes>"
      ]
     },
     "metadata": {
      "needs_background": "light"
     },
     "output_type": "display_data"
    },
    {
     "name": "stdout",
     "output_type": "stream",
     "text": [
      "bad: — 24 05.1977 ©    False\n",
      "eng: — 24 05.1977 ©    False\n",
      "rus: 21 05 1977    True\n",
      "bel: С. 2105 1977.    False\n"
     ]
    }
   ],
   "source": [
    "for brb in list(range(160, 200, 5)):\n",
    "    print(\"brightness_border is \", brb)\n",
    "    image_name = birth_date(brightness_border=brb)\n",
    "    img = Image.open(image_name)\n",
    "    plt_img=mpimg.imread(image_name)\n",
    "    imgplot = plt.imshow(plt_img)\n",
    "    best2 = \"21 05 1977\"\n",
    "    print(\"rel:\", best)\n",
    "    plt.show()\n",
    "    img.load()\n",
    "    with PyTessBaseAPI() as api:\n",
    "        api.SetImageFile(image_name)\n",
    "        text = api.GetUTF8Text()[:-1]\n",
    "        print(\"bad:\", text, \"  \", text == best)\n",
    "    text1 = pytesseract.image_to_string(img, lang='eng')\n",
    "    print(\"eng:\", text1, \"  \", text1 == best)\n",
    "    text2 = pytesseract.image_to_string(img, lang='rus')\n",
    "    print(\"rus:\", text2, \"  \", text2 == best)\n",
    "    text3 = pytesseract.image_to_string(img, lang='bel')\n",
    "    print(\"bel:\", text3, \"  \", text3 == best)\n",
    "    "
   ]
  }
 ],
 "metadata": {
  "kernelspec": {
   "display_name": "Python 3",
   "language": "python",
   "name": "python3"
  },
  "language_info": {
   "codemirror_mode": {
    "name": "ipython",
    "version": 3
   },
   "file_extension": ".py",
   "mimetype": "text/x-python",
   "name": "python",
   "nbconvert_exporter": "python",
   "pygments_lexer": "ipython3",
   "version": "3.7.3"
  }
 },
 "nbformat": 4,
 "nbformat_minor": 2
}
