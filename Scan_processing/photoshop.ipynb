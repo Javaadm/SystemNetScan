{
 "cells": [
  {
   "cell_type": "code",
   "execution_count": 1,
   "metadata": {},
   "outputs": [],
   "source": [
    "from PIL import Image\n",
    "import numpy as np\n",
    "import cv2\n",
    "from scipy import ndimage\n",
    "import matplotlib.pyplot as plt"
   ]
  },
  {
   "cell_type": "code",
   "execution_count": 2,
   "metadata": {},
   "outputs": [
    {
     "ename": "SyntaxError",
     "evalue": "unexpected EOF while parsing (<ipython-input-2-7990bf45f4ba>, line 14)",
     "output_type": "error",
     "traceback": [
      "\u001b[0;36m  File \u001b[0;32m\"<ipython-input-2-7990bf45f4ba>\"\u001b[0;36m, line \u001b[0;32m14\u001b[0m\n\u001b[0;31m    #rotate(image, 90)\u001b[0m\n\u001b[0m                      ^\u001b[0m\n\u001b[0;31mSyntaxError\u001b[0m\u001b[0;31m:\u001b[0m unexpected EOF while parsing\n"
     ]
    }
   ],
   "source": [
    "def rotate(image_path, degrees_to_rotate):\n",
    "    \"\"\"\n",
    "    Rotate the given photo the amount of given degreesk, show it and save it\n",
    "    @param image_path: The path to the image to edit\n",
    "    @param degrees_to_rotate: The number of degrees to rotate the image\n",
    "    @param saved_location: Path to save the cropped image\n",
    "    \"\"\"\n",
    "    image_obj = Image.open(image_path)\n",
    "    rotated_image = image_obj.rotate(degrees_to_rotate)\n",
    "    rotated_image.save(image_path)\n",
    "\n",
    "if __name__ == '__main__':\n",
    "    #image = 'out15.jpg'\n",
    "    #rotate(image, 90)"
   ]
  },
  {
   "cell_type": "code",
   "execution_count": 4,
   "metadata": {},
   "outputs": [],
   "source": [
    "def grab_cut(img, full_scr=True, iters=3, rect=(50, 50, 450, 290)):\n",
    "    mask = np.zeros(img.shape[:2], np.uint8)\n",
    "    bgdModel = np.zeros((1, 65), np.float64)\n",
    "    fgdModel = np.zeros((1, 65), np.float64)\n",
    "    if full_scr:\n",
    "        rect = (2, 2, img.shape[1] - 2, img.shape[0] - 2)\n",
    "        cv2.grabCut(img, mask, rect, bgdModel, fgdModel, iters, cv2.GC_INIT_WITH_RECT)\n",
    "        mask2 = np.where((mask == 2) | (mask == 0), 0, 1).astype('uint8')\n",
    "        img = img * mask2[:, :, np.newaxis]\n",
    "    return img\n",
    "\n",
    "\n",
    "def find_doc_by_grab_cut(orig_image, iters=3, border=50):\n",
    "    image = orig_image.copy()\n",
    "    ratio = orig_image.shape[0] / 500.0\n",
    "\n",
    "    mask = np.zeros(image.shape[:2], np.uint8)\n",
    "    bgdModel = np.zeros((1, 65), np.float64)\n",
    "    fgdModel = np.zeros((1, 65), np.float64)\n",
    "    rect = (2, 2, image.shape[1] - 2, image.shape[0] - 2)\n",
    "    cv2.grabCut(image, mask, rect, bgdModel, fgdModel, iters, cv2.GC_INIT_WITH_RECT)\n",
    "    mask2 = np.where((mask == 2) | (mask == 0), 0, 1).astype('uint8')\n",
    "\n",
    "    mask2 = mask2.reshape(image.shape[0], image.shape[1]) * 255.\n",
    "    mask2 = cv2.copyMakeBorder(mask2.astype('uint8'), border, border, border, border, cv2.BORDER_CONSTANT)\n",
    "\n",
    "    contours = cv2.findContours(mask2, cv2.RETR_EXTERNAL, cv2.CHAIN_APPROX_SIMPLE)\n",
    "    contours = imutils.grab_contours(contours)\n",
    "    main_contours = find_rects(contours, 500 * 500) * ratio - border\n",
    "    if len(main_contours) > 0:\n",
    "        main_contour = main_contours[0]\n",
    "\n",
    "        points = np.asarray(main_contour).reshape(4, 2)\n",
    "        document = four_point_transform(orig_image.copy(), points)\n",
    "        return document\n",
    "    else:\n",
    "        return orig_image"
   ]
  },
  {
   "cell_type": "code",
   "execution_count": 5,
   "metadata": {},
   "outputs": [],
   "source": [
    "image = plt.imread('out16.jpg')"
   ]
  },
  {
   "cell_type": "code",
   "execution_count": null,
   "metadata": {},
   "outputs": [],
   "source": [
    "image = find_doc_by_grab_cut(image)"
   ]
  },
  {
   "cell_type": "code",
   "execution_count": null,
   "metadata": {},
   "outputs": [],
   "source": []
  }
 ],
 "metadata": {
  "kernelspec": {
   "display_name": "Python 3",
   "language": "python",
   "name": "python3"
  },
  "language_info": {
   "codemirror_mode": {
    "name": "ipython",
    "version": 3
   },
   "file_extension": ".py",
   "mimetype": "text/x-python",
   "name": "python",
   "nbconvert_exporter": "python",
   "pygments_lexer": "ipython3",
   "version": "3.7.3"
  }
 },
 "nbformat": 4,
 "nbformat_minor": 2
}
